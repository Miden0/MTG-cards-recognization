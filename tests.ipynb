{
 "cells": [
  {
   "cell_type": "code",
   "execution_count": 26,
   "metadata": {
    "collapsed": true,
    "pycharm": {
     "name": "#%%\n"
    }
   },
   "outputs": [],
   "source": [
    "import requests\n",
    "from bs4 import BeautifulSoup\n",
    "import pickle\n",
    "from dotenv import load_dotenv\n",
    "import os\n",
    "from threading import Thread"
   ]
  },
  {
   "cell_type": "code",
   "execution_count": null,
   "outputs": [],
   "source": [
    "os.chdir(\"dataset/original\")"
   ],
   "metadata": {
    "collapsed": false,
    "pycharm": {
     "name": "#%%\n"
    }
   }
  },
  {
   "cell_type": "code",
   "execution_count": 25,
   "outputs": [],
   "source": [
    "def getpage(pointeur):\n",
    "    response = requests.get(f\"https://www.mtgpics.com/results?type_sel[AR]=1&type_sel[CR]=1&type_sel[EN]=1&type_sel[IN]=1&type_sel[SO]=1&type_sel[TR]=1&type_sel[PL]=1&type_sel[LA]=1&type_sel[TK]=1&type_search=1&costx=1&endx=1&forx=1&graph_aff=1&pointeur={pointeur}\")\n",
    "    soup = BeautifulSoup(response.content, \"html.parser\")\n",
    "    return soup\n",
    "\n",
    "def getimg(soup, img_index):\n",
    "    title = soup.select(f\"#r_main{img_index} .Card16\")[0].text\n",
    "    img_url = f'http://www.mtgpics.com{soup.select(f\"#r_main{img_index} a img\")[0].attrs[\"src\"]}'\n",
    "    img_url = img_url.replace(\"reg\", \"big\")\n",
    "\n",
    "    img_content = requests.get(img_url).content\n",
    "\n",
    "    with open(f\"{title}.jpg\", \"wb\") as image:\n",
    "        image.write(img_content)"
   ],
   "metadata": {
    "collapsed": false,
    "pycharm": {
     "name": "#%%\n"
    }
   }
  },
  {
   "cell_type": "code",
   "execution_count": 16,
   "outputs": [],
   "source": [
    "os.chdir(\"dataset\")\n",
    "os.makedirs(\"title\")"
   ],
   "metadata": {
    "collapsed": false,
    "pycharm": {
     "name": "#%%\n"
    }
   }
  },
  {
   "cell_type": "code",
   "execution_count": null,
   "outputs": [],
   "source": [],
   "metadata": {
    "collapsed": false,
    "pycharm": {
     "name": "#%%\n"
    }
   }
  }
 ],
 "metadata": {
  "kernelspec": {
   "display_name": "Python 3",
   "language": "python",
   "name": "python3"
  },
  "language_info": {
   "codemirror_mode": {
    "name": "ipython",
    "version": 2
   },
   "file_extension": ".py",
   "mimetype": "text/x-python",
   "name": "python",
   "nbconvert_exporter": "python",
   "pygments_lexer": "ipython2",
   "version": "2.7.6"
  }
 },
 "nbformat": 4,
 "nbformat_minor": 0
}